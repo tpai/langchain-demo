{
 "cells": [
  {
   "cell_type": "code",
   "execution_count": 12,
   "id": "8edeac53-52c2-4232-9933-b78173a049fc",
   "metadata": {
    "tags": []
   },
   "outputs": [],
   "source": [
    "from langchain import PromptTemplate\n",
    "from langchain.chat_models import ChatOpenAI\n",
    "from langchain.schema import HumanMessage\n",
    "from langchain.prompts.chat import HumanMessagePromptTemplate\n",
    "import os\n",
    "# os.environ['OPENAI_API_KEY'] = '...'"
   ]
  },
  {
   "cell_type": "code",
   "execution_count": 13,
   "id": "3c3a41be-df22-495d-ad4b-b7c9fd4c5f0c",
   "metadata": {
    "tags": []
   },
   "outputs": [],
   "source": [
    "chat = ChatOpenAI(temperature=0)"
   ]
  },
  {
   "cell_type": "code",
   "execution_count": 17,
   "id": "c50aac64-cef1-4a2e-ba55-4fc1470aa6ce",
   "metadata": {
    "tags": []
   },
   "outputs": [
    {
     "data": {
      "text/plain": [
       "AIMessage(content='Is it legal to not inform employees when downsizing?', additional_kwargs={})"
      ]
     },
     "execution_count": 17,
     "metadata": {},
     "output_type": "execute_result"
    }
   ],
   "source": [
    "prompt=PromptTemplate(\n",
    "    template=\"Translate the following input to English: {text}\",\n",
    "    input_variables=[\"text\"],\n",
    ")\n",
    "human_message_prompt=HumanMessagePromptTemplate(prompt=prompt)\n",
    "chat(human_message_prompt.format_messages(text=\"裁員時不通知員工是否合法？\"))"
   ]
  }
 ],
 "metadata": {
  "kernelspec": {
   "display_name": "Python 3 (ipykernel)",
   "language": "python",
   "name": "python3"
  },
  "language_info": {
   "codemirror_mode": {
    "name": "ipython",
    "version": 3
   },
   "file_extension": ".py",
   "mimetype": "text/x-python",
   "name": "python",
   "nbconvert_exporter": "python",
   "pygments_lexer": "ipython3",
   "version": "3.9.0"
  }
 },
 "nbformat": 4,
 "nbformat_minor": 5
}
