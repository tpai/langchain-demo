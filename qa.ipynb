{
 "cells": [
  {
   "cell_type": "code",
   "execution_count": null,
   "id": "78bf4ca8-08cc-4dea-a936-f6c21caa2212",
   "metadata": {
    "tags": []
   },
   "outputs": [],
   "source": [
    "pip install langchain unstructured openai chromadb"
   ]
  },
  {
   "cell_type": "code",
   "execution_count": 24,
   "id": "de61d31b-94e6-4e53-bd45-2743021421f5",
   "metadata": {
    "tags": []
   },
   "outputs": [],
   "source": [
    "from langchain.embeddings.openai import OpenAIEmbeddings\n",
    "from langchain.vectorstores import Chroma\n",
    "from langchain.text_splitter import CharacterTextSplitter\n",
    "from langchain import OpenAI, VectorDBQA, PromptTemplate\n",
    "from langchain.chat_models import ChatOpenAI\n",
    "from langchain.document_loaders import DirectoryLoader, UnstructuredFileLoader\n",
    "from langchain.prompts.chat import HumanMessagePromptTemplate\n",
    "import os\n",
    "# os.environ['OPENAI_API_KEY'] = '...'\n",
    "chat=ChatOpenAI(temperature=0)"
   ]
  },
  {
   "cell_type": "code",
   "execution_count": 2,
   "id": "b5c3e0e5-1f8d-4a80-9c69-46ff413524bb",
   "metadata": {
    "tags": []
   },
   "outputs": [
    {
     "name": "stdout",
     "output_type": "stream",
     "text": [
      "1\n"
     ]
    }
   ],
   "source": [
    "# loader = DirectoryLoader('./data/', glob='**/*.txt')\n",
    "loader = UnstructuredFileLoader('./data/labor_standard_act.txt')\n",
    "docs = loader.load()\n",
    "print(len(docs))"
   ]
  },
  {
   "cell_type": "code",
   "execution_count": 12,
   "id": "41c068c0-bf66-49fe-a03f-5a75bea42add",
   "metadata": {
    "tags": []
   },
   "outputs": [
    {
     "name": "stdout",
     "output_type": "stream",
     "text": [
      "Running Chroma using direct local API.\n",
      "loaded in 0 embeddings\n",
      "loaded in 1 collections\n",
      "collection with name langchain already exists, returning existing collection\n"
     ]
    }
   ],
   "source": [
    "text_splitter = CharacterTextSplitter(chunk_size=1000, chunk_overlap=0)\n",
    "texts = text_splitter.split_documents(docs)\n",
    "embeddings = OpenAIEmbeddings(openai_api_key=os.environ['OPENAI_API_KEY'])\n",
    "docsearch = Chroma.from_documents(texts, embeddings, persist_directory=\"./cache\")"
   ]
  },
  {
   "cell_type": "code",
   "execution_count": 13,
   "id": "87fd9665-6974-4a70-a465-1043ed796574",
   "metadata": {
    "tags": []
   },
   "outputs": [],
   "source": [
    "qa = VectorDBQA.from_chain_type(llm=OpenAI(), chain_type=\"stuff\", vectorstore=docsearch)\n",
    "# from langchain.chains import RetrievalQAWithSourcesChain\n",
    "# qa = RetrievalQAWithSourcesChain.from_chain_type(OpenAI(temperature=0), chain_type=\"map_reduce\", retriever=docsearch.as_retriever())"
   ]
  },
  {
   "cell_type": "code",
   "execution_count": 26,
   "id": "8b1742a0-34df-42d5-85d5-4735479564e0",
   "metadata": {
    "tags": []
   },
   "outputs": [
    {
     "name": "stdout",
     "output_type": "stream",
     "text": [
      "Is it legal to not inform employees when downsizing?\n"
     ]
    }
   ],
   "source": [
    "human_message_prompt=HumanMessagePromptTemplate(prompt=PromptTemplate(\n",
    "    template=\"Translate the following input to English: {text}\",\n",
    "    input_variables=[\"text\"],\n",
    "))\n",
    "human_message=human_message_prompt.format_messages(text=\"裁員時不通知員工是否合法？\")\n",
    "q=chat(human_message)\n",
    "print(q.content)"
   ]
  },
  {
   "cell_type": "code",
   "execution_count": 29,
   "id": "b5c4b21c-0261-4e66-a38b-b2cb1b1bc89d",
   "metadata": {
    "tags": []
   },
   "outputs": [
    {
     "name": "stdout",
     "output_type": "stream",
     "text": [
      " No, it is not legal to not inform employees when downsizing. According to Article 11 of the labor laws, employers must provide advance notice to workers when downsizing.\n"
     ]
    }
   ],
   "source": [
    "a=qa.run(q.content)\n",
    "print(a)\n",
    "# qa({\"question\": \"if I worked for two years, how long should I notify the company before I resign?\"}, return_only_outputs=True)"
   ]
  },
  {
   "cell_type": "code",
   "execution_count": 31,
   "id": "98933fb0-4524-4188-955a-74522a2d4d82",
   "metadata": {
    "tags": []
   },
   "outputs": [
    {
     "name": "stdout",
     "output_type": "stream",
     "text": [
      "不，不通知員工裁員是不合法的。根據勞動法第11條，雇主在裁員時必須提前通知工人。\n"
     ]
    }
   ],
   "source": [
    "human_message_prompt=HumanMessagePromptTemplate(prompt=PromptTemplate(\n",
    "    template=\"Translate the following input to Traditional Chinese: {text}\",\n",
    "    input_variables=[\"text\"],\n",
    "))\n",
    "human_message=human_message_prompt.format_messages(text=a)\n",
    "output=chat(human_message)\n",
    "print(output.content)"
   ]
  }
 ],
 "metadata": {
  "kernelspec": {
   "display_name": "Python 3 (ipykernel)",
   "language": "python",
   "name": "python3"
  },
  "language_info": {
   "codemirror_mode": {
    "name": "ipython",
    "version": 3
   },
   "file_extension": ".py",
   "mimetype": "text/x-python",
   "name": "python",
   "nbconvert_exporter": "python",
   "pygments_lexer": "ipython3",
   "version": "3.9.0"
  }
 },
 "nbformat": 4,
 "nbformat_minor": 5
}
